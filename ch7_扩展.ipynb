{
 "cells": [
  {
   "attachments": {},
   "cell_type": "markdown",
   "metadata": {},
   "source": [
    "# ChatGPT提示工程第7课：扩展\n",
    "\n",
    "在这节课中，您将生成适合每个顾客评论的客户服务电子邮件。\n",
    "\n",
    "## 设置"
   ]
  },
  {
   "cell_type": "code",
   "execution_count": 4,
   "metadata": {},
   "outputs": [],
   "source": [
    "import openai\n",
    "import os\n",
    "\n",
    "from dotenv import load_dotenv, find_dotenv\n",
    "_ = load_dotenv(find_dotenv())\n",
    "# 在项目根目录的.env文件中填写你的OpenAI API Key\n",
    "# 可以在kudaohang.com上获取测试用的key\n",
    "openai.api_key  = os.getenv('OPENAI_API_KEY')\n",
    "\n",
    "\n",
    "def get_completion(prompt, model=\"gpt-3.5-turbo\", temperature=0):\n",
    "    messages = [{\"role\": \"user\", \"content\": prompt}]\n",
    "    response = openai.ChatCompletion.create(\n",
    "        model=model,\n",
    "        messages=messages,\n",
    "        temperature=0, # this is the degree of randomness of the model's output\n",
    "    )\n",
    "    return response.choices[0].message[\"content\"]"
   ]
  },
  {
   "attachments": {},
   "cell_type": "markdown",
   "metadata": {},
   "source": [
    "## 定制回复顾客电子邮件的自动化答复"
   ]
  },
  {
   "cell_type": "code",
   "execution_count": 14,
   "metadata": {},
   "outputs": [
    {
     "name": "stdout",
     "output_type": "stream",
     "text": [
      "尊敬的客户，\n",
      "\n",
      "非常感谢您对我们产品的评论。我们非常抱歉您在使用过程中遇到了问题。我们深刻理解您的不满和失望，并为此向您道歉。\n",
      "\n",
      "我们非常重视客户的反馈，我们将会把您的意见反馈给我们的产品团队，以便改进我们的产品和服务。我们建议您联系我们的客户服务，以便我们更好地了解您的问题，并为您提供更好的解决方案。\n",
      "\n",
      "再次感谢您对我们的支持和反馈。我们将继续努力提供更好的产品和服务，以满足客户的需求。\n",
      "\n",
      "祝您生活愉快！\n",
      "\n",
      "AI客户代表\n"
     ]
    }
   ],
   "source": [
    "# 给出来自“推断”课程的情感和原始顾客信息，自定义电子邮件\n",
    "sentiment = \"negative\"\n",
    "\n",
    "#关于搅拌机的评论\n",
    "review = f\"\"\"\n",
    "那么，他们在11月还在季节性促销，17件套的价格大约是49美元， \\\n",
    "折扣大约是一半，但不知何故（价格欺诈），在12月的第二周，\\\n",
    "同样的系统价格都涨到了70-89美元之间。而11件套系统的价格\\\n",
    "也从之前的促销价格29美元上涨了大约10美元。\n",
    "\n",
    "外观看起来还可以，\\\n",
    "但如果你看底座，刀片锁定到位的部分看起来并不如几年前的版本\\\n",
    "那么好，但我打算对它非常温柔（例如，我先在搅拌机里压碎非\\\n",
    "常硬的东西，如豆子、冰、大米等，然后在搅拌机里将它们研\\\n",
    "磨到我需要的份量，然后换上搅拌刀片，制作更细腻的面粉，\\\n",
    "制作果汁时，先用十字切割刀片，如果需要更细腻/更少的果肉，\\\n",
    "再用平面刀片）。制作果汁的特别提示：将水果和蔬菜切成细丝\\\n",
    "并冷冻（如果使用菠菜，先稍微炖软菠菜，然后冻起来，\\\n",
    "准备使用；如果制作果冻，使用中小型食品加工机），这样\\\n",
    "你就可以避免在制作果汁时添加过多的冰。大约一年后，\\\n",
    "电机开始发出奇怪的噪音。我打电话给客服，但保修期已经过了，\\\n",
    "所以我不得不又买了一个。\n",
    "\n",
    "请注意：这类产品的整体质量已经下降，\\\n",
    "所以他们有点依赖品牌认知度和消费者忠诚度来维持销量。大约两天就收到了。\\\n",
    "\"\"\"\n",
    "prompt = f\"\"\"\n",
    "您是一名客户服务人员AI助手。\n",
    "您的任务是向一位重视的客户发电子邮件回复。\n",
    "给定客户的电子邮件，以感谢客户对其进行评论。\n",
    "如果情绪是正面或中性的，请感谢他们的评论。\n",
    "如果情绪是消极的，请道歉并建议他们可以联系客户服务。\n",
    "确保使用评论中的详细信息。\n",
    "用简洁，专业的口气写。\n",
    "将电子邮件签名为 AI客户代表。\n",
    "客户评论: {review}\n",
    "评论情绪: {sentiment}\n",
    "\"\"\"\n",
    "response = get_completion(prompt)\n",
    "print(response)"
   ]
  },
  {
   "attachments": {},
   "cell_type": "markdown",
   "metadata": {},
   "source": [
    "## 提醒模型使用客户的电子邮件详细信息"
   ]
  },
  {
   "cell_type": "code",
   "execution_count": 15,
   "metadata": {},
   "outputs": [
    {
     "name": "stdout",
     "output_type": "stream",
     "text": [
      "尊敬的客户，\n",
      "\n",
      "非常感谢您对我们产品的评论。我们非常抱歉您在使用过程中遇到了问题。我们深刻理解您的不满和失望，并为此向您道歉。\n",
      "\n",
      "我们非常重视客户的反馈，我们会将您的意见反馈给我们的产品团队，以便改进我们的产品和服务。如果您需要任何帮助或支持，请随时联系我们的客户服务团队，我们将竭诚为您服务。\n",
      "\n",
      "再次感谢您对我们的支持和反馈。\n",
      "\n",
      "AI客户代表\n"
     ]
    }
   ],
   "source": [
    "prompt = f\"\"\"\n",
    "您是一名客户服务人员AI助手。\n",
    "您的任务是向一位重视的客户发电子邮件回复。\n",
    "给定客户的电子邮件，以感谢客户对其进行评论。\n",
    "如果情绪是正面或中性的，请感谢他们的评论。\n",
    "如果情绪是消极的，请道歉并建议他们可以联系客户服务。\n",
    "确保根据评论中的信息，用简洁，专业的口气写。\n",
    "将电子邮件签名为 AI客户代表。\n",
    "客户评论: {review}\n",
    "评论情绪: {sentiment}\n",
    "\"\"\"\n",
    "response = get_completion(prompt, temperature=0.7)\n",
    "print(response)"
   ]
  },
  {
   "attachments": {},
   "cell_type": "markdown",
   "metadata": {},
   "source": [
    "公众号“开放人工智能”，后台回复“会说话的椰子”获取提示工程体验卡。"
   ]
  }
 ],
 "metadata": {
  "kernelspec": {
   "display_name": "Python 3 (ipykernel)",
   "language": "python",
   "name": "python3"
  },
  "language_info": {
   "codemirror_mode": {
    "name": "ipython",
    "version": 3
   },
   "file_extension": ".py",
   "mimetype": "text/x-python",
   "name": "python",
   "nbconvert_exporter": "python",
   "pygments_lexer": "ipython3",
   "version": "3.10.6"
  }
 },
 "nbformat": 4,
 "nbformat_minor": 2
}
