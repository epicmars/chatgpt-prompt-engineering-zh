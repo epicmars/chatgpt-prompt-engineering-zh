{
 "cells": [
  {
   "attachments": {},
   "cell_type": "markdown",
   "metadata": {},
   "source": [
    "# ChatGPT提示工程第5课：推理\n",
    "在这篇课程中，您将会推断产品评论和新闻文章中的情感和主题。\n",
    "\n",
    "## 设置"
   ]
  },
  {
   "cell_type": "code",
   "execution_count": 17,
   "metadata": {},
   "outputs": [],
   "source": [
    "import openai\n",
    "import os\n",
    "\n",
    "from dotenv import load_dotenv, find_dotenv\n",
    "_ = load_dotenv(find_dotenv())\n",
    "# 在项目根目录的.env文件中填写你的OpenAI API Key\n",
    "# 可以在kudaohang.com上获取测试用的key\n",
    "openai.api_key  = os.getenv('OPENAI_API_KEY')\n",
    "\n",
    "\n",
    "def get_completion(prompt, model=\"gpt-3.5-turbo\"):\n",
    "    messages = [{\"role\": \"user\", \"content\": prompt}]\n",
    "    response = openai.ChatCompletion.create(\n",
    "        model=model,\n",
    "        messages=messages,\n",
    "        temperature=0, # this is the degree of randomness of the model's output\n",
    "    )\n",
    "    return response.choices[0].message[\"content\"]"
   ]
  },
  {
   "cell_type": "code",
   "execution_count": 18,
   "metadata": {},
   "outputs": [],
   "source": [
    "## 产品评论"
   ]
  },
  {
   "cell_type": "code",
   "execution_count": 19,
   "metadata": {},
   "outputs": [],
   "source": [
    "lamp_review = \"\"\"\n",
    "我需要一盏漂亮的卧室灯，这款灯具不仅有额外的存储空间，\n",
    "价格也不高。物流速度快，可运输过程中我们的拉线断了，\n",
    "但公司很愉快地发送了一根新的。也很快就到货了。\n",
    "它很容易安装。我有一个缺失的零件，所以联系他们的客服，\n",
    "他们非常快地给我补发了缺失的零件！Lumina \n",
    "对我来说是一家非常注重客户和产品的优秀公司！！\n",
    "\"\"\""
   ]
  },
  {
   "attachments": {},
   "cell_type": "markdown",
   "metadata": {},
   "source": [
    "## 情感（积极/消极）"
   ]
  },
  {
   "cell_type": "code",
   "execution_count": 20,
   "metadata": {},
   "outputs": [
    {
     "name": "stdout",
     "output_type": "stream",
     "text": [
      "积极的情感。\n"
     ]
    }
   ],
   "source": [
    "提示 =f\"\"\"\n",
    "以下产品评论的情感是什么，其中使用三个反引号进行分隔？\n",
    "\n",
    "评论文本：'' '{lamp_review}' ''\n",
    "\"\"\"\n",
    "回复=get_completion(提示)\n",
    "print(回复)"
   ]
  },
  {
   "cell_type": "code",
   "execution_count": 21,
   "metadata": {},
   "outputs": [
    {
     "name": "stdout",
     "output_type": "stream",
     "text": [
      "positive\n"
     ]
    }
   ],
   "source": [
    "提示 =f\"\"\"\n",
    "以下产品评论的情感是什么，其中使用三个反引号进行分隔？\n",
    "\n",
    "请以一个单词回答，要么是“positive”（积极），\n",
    "要么是“negative”（消极）。\n",
    "\n",
    "评论文本：'' '{lamp_review}' ''\n",
    "\"\"\"\n",
    "回复=get_completion(提示)\n",
    "print(回复)"
   ]
  },
  {
   "attachments": {},
   "cell_type": "markdown",
   "metadata": {},
   "source": [
    "## 识别情感类型"
   ]
  },
  {
   "cell_type": "code",
   "execution_count": 22,
   "metadata": {},
   "outputs": [
    {
     "name": "stdout",
     "output_type": "stream",
     "text": [
      "满意, 赞扬, 信任, 愉快, 感激\n"
     ]
    }
   ],
   "source": [
    "提示 = f\"\"\"\n",
    "识别以下评论作者表达的情感类型列表。 列表中的项目不得超过五项。\n",
    "格式化您的答案为由逗号分隔的小写单词列表。\n",
    "\n",
    "评论文本：'''{lamp_review}'''\n",
    "\"\"\"\n",
    "响应= get_completion(提示)\n",
    "print(响应)"
   ]
  },
  {
   "attachments": {},
   "cell_type": "markdown",
   "metadata": {},
   "source": [
    "## 识别愤怒"
   ]
  },
  {
   "cell_type": "code",
   "execution_count": 24,
   "metadata": {},
   "outputs": [
    {
     "name": "stdout",
     "output_type": "stream",
     "text": [
      "no\n"
     ]
    }
   ],
   "source": [
    "提示 = f\"\"\"\n",
    "以下评论的作者是否表达了愤怒？\n",
    "评论使用三个重音符号分隔。\n",
    "以yes或no的形式回答。\n",
    "\n",
    "评论文本：'''{lamp_review}'''\n",
    "\"\"\"\n",
    "响应= get_completion(提示)\n",
    "print(响应)"
   ]
  },
  {
   "attachments": {},
   "cell_type": "markdown",
   "metadata": {},
   "source": [
    "## 提取顾客评价中的产品和公司名称"
   ]
  },
  {
   "cell_type": "code",
   "execution_count": 27,
   "metadata": {},
   "outputs": [
    {
     "name": "stdout",
     "output_type": "stream",
     "text": [
      "{\n",
      "  \"项目\": \"卧室灯\",\n",
      "  \"品牌\": \"Lumina\"\n",
      "}\n"
     ]
    }
   ],
   "source": [
    "提示 = f\"\"\"\n",
    "从评价文本中识别以下项目：\n",
    "\n",
    "评价者购买的物品\n",
    "制造该物品的公司\n",
    "评价文本使用三个反引号进行分隔。\n",
    "将您的响应格式化为具有“项目”和“品牌”键的JSON对象。\n",
    "如果信息不存在，请将“未知”作为值使用。\n",
    "使您的响应尽可能简短。\n",
    "\n",
    "评价文本：'''{lamp_review}'''\n",
    "\"\"\"\n",
    "响应 = get_completion(提示)\n",
    "print(响应)"
   ]
  },
  {
   "attachments": {},
   "cell_type": "markdown",
   "metadata": {},
   "source": [
    "## 在单个提示中进行多个任务"
   ]
  },
  {
   "cell_type": "code",
   "execution_count": null,
   "metadata": {},
   "outputs": [
    {
     "name": "stdout",
     "output_type": "stream",
     "text": [
      "{\n",
      "  \"情感\": \"正面\",\n",
      "  \"愤怒\": false,\n",
      "  \"商品\": \"卧室灯\",\n",
      "  \"品牌\": \"Lumina\"\n",
      "}\n"
     ]
    }
   ],
   "source": [
    "提示 = f\"\"\"\n",
    "从评论文本中识别以下项目：\n",
    "- 情感（正面或负面）\n",
    "- 评论者是否表达了愤怒？（真或假）\n",
    "- 评论者购买的商品\n",
    "- 制造商品的公司\n",
    "\n",
    "评论用三个反引号分隔。\n",
    "将您的回答格式化为一个JSON对象，其中\n",
    "“情感”、“愤怒”、“商品”和“品牌”作为键。\n",
    "如果信息不存在，请使用“未知”\n",
    "作为值。\n",
    "尽可能缩短您的回答。\n",
    "将愤怒值格式化为布尔值。\n",
    "\n",
    "评论文本：'''{lamp_review}'''\n",
    "\"\"\"\n",
    "response = get_completion(提示)\n",
    "print(response)"
   ]
  },
  {
   "attachments": {},
   "cell_type": "markdown",
   "metadata": {},
   "source": [
    "## 推断话题"
   ]
  },
  {
   "cell_type": "code",
   "execution_count": 30,
   "metadata": {},
   "outputs": [],
   "source": [
    "story = \"\"\" 在政府最近进行的一项调查中， \n",
    "公共部门的员工被要求对他们所在的部门的满意度进行评价。\n",
    "结果显示，NASA是最受欢迎的 部门，满意度达到了95%。\n",
    "一位NASA的员工，约翰·史密斯，对调查结果发表了评论， \n",
    "他说，“我并不惊讶NASA排名第一。 这是一个工作环境很好，\n",
    "有着优秀的人才和 难以置信的机会的地方。\n",
    "我为能成为这样一个创新组织的一员而感到自豪。”\n",
    "\n",
    "NASA的管理团队也对结果表示欢迎， 主任汤姆·约翰逊说，\n",
    "“我们很高兴 听到我们的员工对他们在NASA的工作感到满意。 \n",
    "我们有一支才华横溢、敬业的团队，他们不知疲倦地为实现我\n",
    "们的目标而努力，看到他们的 辛勤工作得到回报真是太棒了。”\n",
    "调查还显示，社会保障局有着最低的满意度， 只有45%的员工\n",
    "表示他们对自己的工作感到满意。政府已经承诺 解决调查中\n",
    "员工提出的问题，并 致力于提高所有部门的工作满意度。 \"\"\" "
   ]
  },
  {
   "cell_type": "code",
   "execution_count": null,
   "metadata": {},
   "outputs": [
    {
     "name": "stdout",
     "output_type": "stream",
     "text": [
      "NASA, 员工满意度调查, 政府部门, 社会保障局, 工作环境\n"
     ]
    }
   ],
   "source": [
    "\n",
    "prompt = f\"\"\" 确定以下文本中讨论的五个话题，文本用三个反引号分隔。\n",
    "\n",
    "每个项目用一到两个词表示。\n",
    "\n",
    "将您的回答格式化为用逗号分隔的项目列表。\n",
    "\n",
    "文本样本：'''{story}'''\n",
    "\"\"\"\n",
    "\n",
    "response = get_completion(prompt) \n",
    "print(response)\n",
    "\n",
    "response.split(sep=',')"
   ]
  },
  {
   "cell_type": "code",
   "execution_count": null,
   "metadata": {},
   "outputs": [
    {
     "name": "stdout",
     "output_type": "stream",
     "text": [
      "nasa: 1\n",
      "地方政府: 0\n",
      "工程: 0\n",
      "员工满意度: 1\n",
      "联邦政府: 1\n"
     ]
    }
   ],
   "source": [
    "topic_list = [ \"nasa\", \"地方政府\", \"工程\", \"员工满意度\", \"联邦政府\" ]\n",
    "\n",
    "提示 = f\"\"\"\n",
    "确定以下主题列表中的每个项目是否是以下用三个反引号分隔的文本中的主题。\n",
    "\n",
    "按照每个主题给出0或1的列表作为您的答案。\n",
    "主题列表：{\",\".join(topic_list)}\n",
    "\n",
    "文本示例：'''{story}'''\n",
    "\"\"\"\n",
    "response = get_completion(提示)\n",
    "print(response)"
   ]
  },
  {
   "cell_type": "code",
   "execution_count": 28,
   "metadata": {},
   "outputs": [
    {
     "name": "stdout",
     "output_type": "stream",
     "text": [
      "ALERT: New NASA story!\n"
     ]
    }
   ],
   "source": [
    "topic_dict = {i.split(': ')[0]: int(i.split(': ')[1]) for i in response.split(sep='\\n')}\n",
    "if topic_dict['nasa'] == 1:\n",
    "    print(\"ALERT: New NASA story!\")"
   ]
  }
 ],
 "metadata": {
  "kernelspec": {
   "display_name": ".venv",
   "language": "python",
   "name": "python3"
  },
  "language_info": {
   "codemirror_mode": {
    "name": "ipython",
    "version": 3
   },
   "file_extension": ".py",
   "mimetype": "text/x-python",
   "name": "python",
   "nbconvert_exporter": "python",
   "pygments_lexer": "ipython3",
   "version": "3.10.6"
  },
  "orig_nbformat": 4
 },
 "nbformat": 4,
 "nbformat_minor": 2
}
