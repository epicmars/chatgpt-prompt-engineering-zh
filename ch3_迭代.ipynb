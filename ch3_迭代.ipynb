{
 "cells": [
  {
   "attachments": {},
   "cell_type": "markdown",
   "metadata": {},
   "source": [
    "# ChatGPT提示工程第3课：迭代提示开发\n",
    "在这个课程中，你将迭代地分析和完善你的提示，从一个产品说明书中生成营销文案。\n",
    "\n",
    "## 设置\n",
    "加载API key和相关Python库，依赖库见requirements.txt。"
   ]
  },
  {
   "cell_type": "code",
   "execution_count": 1,
   "metadata": {},
   "outputs": [],
   "source": [
    "import openai\n",
    "import os\n",
    "\n",
    "from dotenv import load_dotenv, find_dotenv\n",
    "_ = load_dotenv(find_dotenv())\n",
    "# 在项目根目录的.env文件中填写你的OpenAI API Key\n",
    "# 可以在kudaohang.com上获取测试用的key\n",
    "openai.api_key  = os.getenv('OPENAI_API_KEY')\n",
    "\n",
    "\n",
    "def get_completion(prompt, model=\"gpt-3.5-turbo\"):\n",
    "    messages = [{\"role\": \"user\", \"content\": prompt}]\n",
    "    response = openai.ChatCompletion.create(\n",
    "        model=model,\n",
    "        messages=messages,\n",
    "        temperature=0, # this is the degree of randomness of the model's output\n",
    "    )\n",
    "    return response.choices[0].message[\"content\"]"
   ]
  },
  {
   "attachments": {},
   "cell_type": "markdown",
   "metadata": {},
   "source": [
    "## 从产品说明书中生成营销文案\n"
   ]
  },
  {
   "cell_type": "code",
   "execution_count": 3,
   "metadata": {},
   "outputs": [],
   "source": [
    "fact_sheet_chair = \"\"\"\n",
    "概观\n",
    "- 这是一个美丽的中世纪灵感办公家具系列，包括文件柜、书桌、书柜、会议桌等等。\n",
    "- 有几种不同的外壳颜色和底座饰面可供选择。\n",
    "- 多款面料可供选择，包括塑料背靠和前部装饰（SWC-100）或全面装饰（SWC-110），提供 10 种面料和 6 种皮革选择。\n",
    "- 底座饰面选项有：不锈钢、哑黑色、光泽白色或铬。\n",
    "- 椅子可选择有或没有扶手。\n",
    "- 适合家庭或商务场合。\n",
    "- 已通过合同使用的资格认证。\n",
    "\n",
    "结构\n",
    "- 五轮塑料涂层铝质底座。\n",
    "- 气动椅子调节，方便高低调节。\n",
    "\n",
    "尺寸\n",
    "- 宽度 53 厘米 | 20.87 英寸\n",
    "- 深度 51 厘米 | 20.08 英寸\n",
    "- 高度 80 厘米 | 31.50 英寸\n",
    "- 座位高度 44 厘米 | 17.32 英寸\n",
    "- 座深 41 厘米 | 16.14 英寸\n",
    "\n",
    "选项\n",
    "- 软或硬地板轮选项。\n",
    "- 座椅泡沫密度有两个选择：中等（1.8 磅/立方英尺）或高密度（2.8 磅/立方英尺）。\n",
    "- 无扶手或八个位置的 PU 扶手。\n",
    "\n",
    "材料\n",
    "外壳底座滑轮\n",
    "- 铸铝，经改性的尼龙 PA6/PA66 涂层。\n",
    "- 外壳厚度：10 毫米。\n",
    "座位\n",
    "- HD36 泡沫\n",
    "\n",
    "原产国\n",
    "- 意大利\n",
    "\n",
    "请从以上产品说明书概述中开始设计营销文案。\n",
    "\"\"\""
   ]
  },
  {
   "cell_type": "code",
   "execution_count": 6,
   "metadata": {},
   "outputs": [
    {
     "name": "stdout",
     "output_type": "stream",
     "text": [
      "我们自豪地推出了一款美丽的中世纪灵感办公家具系列，包括文件柜、书桌、书柜、会议桌等等。我们提供多种不同的外壳颜色和底座饰面可供选择，以及多款面料可供选择，包括塑料背靠和前部装饰或全面装饰，提供10种面料和6种皮革选择。底座饰面选项有不锈钢、哑黑色、光泽白色或铬。椅子可选择有或没有扶手。我们的产品适合家庭或商务场合，并已通过合同使用的资格认证。 \n",
      "\n",
      "我们的产品结构采用五轮塑料涂层铝质底座，气动椅子调节，方便高低调节。尺寸方面，宽度53厘米，深度51厘米，高度80厘米，座位高度44厘米，座深41厘米。我们提供软或硬地板轮选项，座椅泡沫密度有两个选择：中等或高密度，以及无扶手或八个位置的PU扶手。 \n",
      "\n",
      "我们的产品采用铸铝，经改性的尼龙PA6/PA66涂层的外壳底座滑轮，外壳厚度为10毫米，座位采用HD36泡沫。我们的产品原产国为意大利。 \n",
      "\n",
      "我们的中世纪灵感办公家具系列是您家庭或商务场合的理想选择。我们提供多种颜色和材料选择，以及多种座椅选项，以满足您的需求。我们的产品结构坚固耐用，设计精美，是您办公室的完美搭配。\n"
     ]
    }
   ],
   "source": [
    "prompt = f\"\"\"\n",
    "你的任务是帮助市场营销团队根据技术说明书创建一份产品描述文案。\n",
    "\n",
    "根据使用三引号提供的技术规格说明书，使用中文编写一份产品描述。\n",
    "\n",
    "技术规格说明书: ```{fact_sheet_chair}```\n",
    "\"\"\"\n",
    "response = get_completion(prompt)\n",
    "print(response)"
   ]
  },
  {
   "attachments": {},
   "cell_type": "markdown",
   "metadata": {},
   "source": [
    "## 问题1：文字过长\n",
    "将单词/句子/字符数量限制在最大50个以内。"
   ]
  },
  {
   "cell_type": "code",
   "execution_count": 8,
   "metadata": {},
   "outputs": [
    {
     "name": "stdout",
     "output_type": "stream",
     "text": [
      "这是一款中世纪灵感的美丽办公家具系列，包括文件柜、书桌、书柜、会议桌等等。多种外壳颜色和底座饰面可供选择，提供多款面料，包括塑料背靠和前部装饰或全面装饰，底座饰面选项有不锈钢、哑黑色、光泽白色或铬。适合家庭或商务场合，已通过合同使用的资格认证。\n"
     ]
    }
   ],
   "source": [
    "提示 = f\"\"\"\n",
    "您的任务是帮助市场营销团队根据技术说明书创建一份产品描述文案。\n",
    "\n",
    "请根据提供的技术规格说明书，写一份中文产品描述文案。技术规格书用三个反引号括起来。\n",
    "\n",
    "最多使用50个单词。\n",
    "\n",
    "技术规格：```{fact_sheet_chair}```\n",
    "\"\"\"\n",
    "回复 = get_completion(提示)\n",
    "print(回复)"
   ]
  },
  {
   "attachments": {},
   "cell_type": "markdown",
   "metadata": {},
   "source": [
    "## 问题2：内容偏离要点\n",
    "让AI聚焦于目标受众更关心的方面。"
   ]
  },
  {
   "cell_type": "code",
   "execution_count": 12,
   "metadata": {},
   "outputs": [
    {
     "name": "stdout",
     "output_type": "stream",
     "text": [
      "介绍我们的中世纪灵感办公家具系列，包括文件柜、书桌、书柜、会议桌等等。我们提供多种外壳颜色和底座饰面，以及多款面料可供选择。底座饰面选项有不锈钢、哑黑色、光泽白色或铬。椅子可选择有或没有扶手。适合家庭或商务场合。我们的产品已通过合同使用的资格认证。座椅采用气动调节，方便高低调节。我们提供软或硬地板轮选项，座椅泡沫密度有两个选择：中等或高密度。我们的产品原产国是意大利。\n"
     ]
    }
   ],
   "source": [
    "提示 = f\"\"\"\n",
    "你的任务是帮助营销团队根据技术数据表单，为零售网站创建一个产品描述。\n",
    "\n",
    "根据三重重音符号标记的技术规格，编写产品说明。\n",
    "\n",
    "该说明旨在为家具零售商提供技术性的材料说明。\n",
    "\n",
    "不超过100个字。\n",
    "\n",
    "技术规格: ```{fact_sheet_chair}```\n",
    "\"\"\"\n",
    "回复 = get_completion(提示)\n",
    "print(回复)"
   ]
  },
  {
   "cell_type": "code",
   "execution_count": 13,
   "metadata": {},
   "outputs": [
    {
     "name": "stdout",
     "output_type": "stream",
     "text": [
      "中世纪灵感办公家具系列，包括文件柜、书桌、书柜、会议桌等等。多种颜色和面料可供选择，底座饰面有不锈钢、哑黑色、光泽白色或铬。适合家庭或商务场合，通过资格认证。铝质底座，气动椅子调节，座椅泡沫密度可选。原产国：意大利。产品ID编号：SWC-100、SWC-110。\n"
     ]
    }
   ],
   "source": [
    "提示 = f\"\"\"\n",
    "你的任务是帮助市场营销团队根据技术说明书创建一份产品描述文案。\n",
    "\n",
    "请根据提供的技术规格说明书，写一份中文产品描述文案，以在家具零售商的网站上展示。\n",
    "\n",
    "在描述中请注重材料相关的技术详细信息。\n",
    "\n",
    "在产品描述的结尾，包括在技术规格中的每个由7个字符组成的产品ID编号。\n",
    "\n",
    "最多使用80个字。\n",
    "\n",
    "技术规格：```{fact_sheet_chair}```\n",
    "\"\"\"\n",
    "回复 = get_completion(提示)\n",
    "print(回复)"
   ]
  },
  {
   "attachments": {},
   "cell_type": "markdown",
   "metadata": {},
   "source": [
    "## 问题3. 描述文档中需要一个多维度的表格\n",
    "让AI按要求提取信息并将其组织成表格。"
   ]
  },
  {
   "cell_type": "code",
   "execution_count": 17,
   "metadata": {},
   "outputs": [
    {
     "name": "stdout",
     "output_type": "stream",
     "text": [
      "<div>\n",
      "<h2>中世纪灵感办公家具系列</h2>\n",
      "<p>这个美丽的中世纪灵感办公家具系列包括文件柜、书桌、书柜、会议桌等等。您可以选择几种不同的外壳颜色和底座饰面。此外，我们提供多款面料可供选择，包括塑料背靠和前部装饰（SWC-100）或全面装饰（SWC-110），提供 10 种面料和 6 种皮革选择。底座饰面选项有：不锈钢、哑黑色、光泽白色或铬。椅子可选择有或没有扶手。此系列适合家庭或商务场合，并已通过合同使用的资格认证。</p>\n",
      "<h3>结构</h3>\n",
      "<p>此系列家具采用五轮塑料涂层铝质底座，气动椅子调节，方便高低调节。</p>\n",
      "<h3>材料</h3>\n",
      "<p>外壳底座滑轮采用铸铝，经改性的尼龙 PA6/PA66 涂层。外壳厚度为10毫米。座位采用HD36泡沫。此系列家具原产国为意大利。</p>\n",
      "<h3>选项</h3>\n",
      "<ul>\n",
      "<li>软或硬地板轮选项。</li>\n",
      "<li>座椅泡沫密度有两个选择：中等（1.8 磅/立方英尺）或高密度（2.8 磅/立方英尺）。</li>\n",
      "<li>无扶手或八个位置的 PU 扶手。</li>\n",
      "</ul>\n",
      "<h3>产品尺寸</h3>\n",
      "<table>\n",
      "<tr>\n",
      "<th>尺寸名称</th>\n",
      "<th>英寸</th>\n",
      "</tr>\n",
      "<tr>\n",
      "<td>宽度</td>\n",
      "<td>20.87</td>\n",
      "</tr>\n",
      "<tr>\n",
      "<td>深度</td>\n",
      "<td>20.08</td>\n",
      "</tr>\n",
      "<tr>\n",
      "<td>高度</td>\n",
      "<td>31.50</td>\n",
      "</tr>\n",
      "<tr>\n",
      "<td>座位高度</td>\n",
      "<td>17.32</td>\n",
      "</tr>\n",
      "<tr>\n",
      "<td>座深</td>\n",
      "<td>16.14</td>\n",
      "</tr>\n",
      "</table>\n",
      "<p>产品ID：SWC-100</p>\n",
      "</div>\n"
     ]
    }
   ],
   "source": [
    "提示 = f\"\"\"\n",
    "您的任务是帮助营销团队根据技术说明书为零售网站创建产品描述。\n",
    "\n",
    "根据三个重音符隔开的技术规格，编写产品描述。\n",
    "\n",
    "描述的目标受众是家具零售商，因此应该是技术性的，并侧重于产品的材料构造。\n",
    "\n",
    "在描述结束时，包括技术规格中每个7个字符的产品ID。\n",
    "\n",
    "在产品描述的后面，包括一个表格，给出产品的尺寸。表格应该有两列。\n",
    "在第一列中包括尺寸名称。在第二列中，只包括英寸的测量值。\n",
    "\n",
    "给表格加上标题“产品尺寸”。\n",
    "\n",
    "将所有内容格式化为HTML，可在网站中使用。将描述放在<div>元素中。\n",
    "\n",
    "技术规格： ```{fact_sheet_chair}```\n",
    "\"\"\"\n",
    "\n",
    "回复 = get_completion(提示)\n",
    "print(回复)"
   ]
  },
  {
   "attachments": {},
   "cell_type": "markdown",
   "metadata": {},
   "source": [
    "## 加载 Python 库以查看 HTML"
   ]
  },
  {
   "cell_type": "code",
   "execution_count": 18,
   "metadata": {},
   "outputs": [
    {
     "data": {
      "text/html": [
       "<div>\n",
       "<h2>中世纪灵感办公家具系列</h2>\n",
       "<p>这个美丽的中世纪灵感办公家具系列包括文件柜、书桌、书柜、会议桌等等。您可以选择几种不同的外壳颜色和底座饰面。此外，我们提供多款面料可供选择，包括塑料背靠和前部装饰（SWC-100）或全面装饰（SWC-110），提供 10 种面料和 6 种皮革选择。底座饰面选项有：不锈钢、哑黑色、光泽白色或铬。椅子可选择有或没有扶手。此系列适合家庭或商务场合，并已通过合同使用的资格认证。</p>\n",
       "<h3>结构</h3>\n",
       "<p>此系列家具采用五轮塑料涂层铝质底座，气动椅子调节，方便高低调节。</p>\n",
       "<h3>材料</h3>\n",
       "<p>外壳底座滑轮采用铸铝，经改性的尼龙 PA6/PA66 涂层。外壳厚度为10毫米。座位采用HD36泡沫。此系列家具原产国为意大利。</p>\n",
       "<h3>选项</h3>\n",
       "<ul>\n",
       "<li>软或硬地板轮选项。</li>\n",
       "<li>座椅泡沫密度有两个选择：中等（1.8 磅/立方英尺）或高密度（2.8 磅/立方英尺）。</li>\n",
       "<li>无扶手或八个位置的 PU 扶手。</li>\n",
       "</ul>\n",
       "<h3>产品尺寸</h3>\n",
       "<table>\n",
       "<tr>\n",
       "<th>尺寸名称</th>\n",
       "<th>英寸</th>\n",
       "</tr>\n",
       "<tr>\n",
       "<td>宽度</td>\n",
       "<td>20.87</td>\n",
       "</tr>\n",
       "<tr>\n",
       "<td>深度</td>\n",
       "<td>20.08</td>\n",
       "</tr>\n",
       "<tr>\n",
       "<td>高度</td>\n",
       "<td>31.50</td>\n",
       "</tr>\n",
       "<tr>\n",
       "<td>座位高度</td>\n",
       "<td>17.32</td>\n",
       "</tr>\n",
       "<tr>\n",
       "<td>座深</td>\n",
       "<td>16.14</td>\n",
       "</tr>\n",
       "</table>\n",
       "<p>产品ID：SWC-100</p>\n",
       "</div>"
      ],
      "text/plain": [
       "<IPython.core.display.HTML object>"
      ]
     },
     "metadata": {},
     "output_type": "display_data"
    }
   ],
   "source": [
    "from IPython.display import display, HTML\n",
    "display(HTML(回复))"
   ]
  },
  {
   "attachments": {},
   "cell_type": "markdown",
   "metadata": {},
   "source": [
    "公众号后台回复“会说话的椰子”获取提示工程体验卡。"
   ]
  }
 ],
 "metadata": {
  "kernelspec": {
   "display_name": ".venv",
   "language": "python",
   "name": "python3"
  },
  "language_info": {
   "codemirror_mode": {
    "name": "ipython",
    "version": 3
   },
   "file_extension": ".py",
   "mimetype": "text/x-python",
   "name": "python",
   "nbconvert_exporter": "python",
   "pygments_lexer": "ipython3",
   "version": "3.10.6"
  },
  "orig_nbformat": 4
 },
 "nbformat": 4,
 "nbformat_minor": 2
}
