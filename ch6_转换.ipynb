{
 "cells": [
  {
   "attachments": {},
   "cell_type": "markdown",
   "metadata": {},
   "source": [
    "# ChatGPT提示工程第6课：转换\n",
    "在这个笔记本中，我们将探索如何使用大型语言模型进行文本转换任务，例如语言翻译、拼写和语法检查、语气调整和格式转换\n",
    "\n",
    "## 设置"
   ]
  },
  {
   "cell_type": "code",
   "execution_count": 1,
   "metadata": {},
   "outputs": [],
   "source": [
    "import openai\n",
    "import os\n",
    "import time\n",
    "\n",
    "from dotenv import load_dotenv, find_dotenv\n",
    "_ = load_dotenv(find_dotenv())\n",
    "# 在项目根目录的.env文件中填写你的OpenAI API Key\n",
    "# 可以在kudaohang.com上获取测试用的key\n",
    "openai.api_key  = os.getenv('OPENAI_API_KEY')\n",
    "\n",
    "\n",
    "def get_completion(prompt, model=\"gpt-3.5-turbo\"):\n",
    "    messages = [{\"role\": \"user\", \"content\": prompt}]\n",
    "    response = openai.ChatCompletion.create(\n",
    "        model=model,\n",
    "        messages=messages,\n",
    "        temperature=0, # this is the degree of randomness of the model's output\n",
    "    )\n",
    "    return response.choices[0].message[\"content\"]"
   ]
  },
  {
   "attachments": {},
   "cell_type": "markdown",
   "metadata": {},
   "source": [
    "## 翻译\n",
    "ChatGPT是通过多种语言的资料进行训练的。这使得模型能够进行翻译。以下是如何利用此功能的一些示例。"
   ]
  },
  {
   "cell_type": "code",
   "execution_count": 2,
   "metadata": {},
   "outputs": [
    {
     "name": "stdout",
     "output_type": "stream",
     "text": [
      "你好，我想订购一个搅拌机。\n"
     ]
    }
   ],
   "source": [
    "prompt = f\"\"\"\n",
    "将以下英文文本翻译成中文：\n",
    "Hi, I would like to order a blender\n",
    "\"\"\"\n",
    "response = get_completion(prompt)\n",
    "print(response)"
   ]
  },
  {
   "cell_type": "code",
   "execution_count": 3,
   "metadata": {},
   "outputs": [
    {
     "name": "stdout",
     "output_type": "stream",
     "text": [
      "这是法语。\n"
     ]
    }
   ],
   "source": [
    "prompt = f\"\"\"\n",
    "告诉我这是哪种语言：\n",
    "Combien coûte le lampadaire?\n",
    "\"\"\"\n",
    "response = get_completion(prompt)\n",
    "print(response)"
   ]
  },
  {
   "cell_type": "code",
   "execution_count": 5,
   "metadata": {},
   "outputs": [
    {
     "name": "stdout",
     "output_type": "stream",
     "text": [
      "中文：海盗：我想订购一个篮球\n",
      "法语：Pirate : Je veux commander un ballon de basket\n",
      "西班牙语：Pirata: Quiero pedir una pelota de baloncesto\n",
      "英文：Pirate: I want to order a basketball\n"
     ]
    }
   ],
   "source": [
    "prompt = f\"\"\"\n",
    "将以下文本翻译成中文、法语、西班牙语和英文\n",
    "\n",
    "pirate：I want to order a basketball\n",
    "\"\"\"\n",
    "response = get_completion(prompt)\n",
    "print(response)"
   ]
  },
  {
   "cell_type": "code",
   "execution_count": 6,
   "metadata": {},
   "outputs": [
    {
     "name": "stdout",
     "output_type": "stream",
     "text": [
      "正式：¿Le gustaría ordenar una almohada?\n",
      "非正式：¿Te gustaría pedir una almohada?\n"
     ]
    }
   ],
   "source": [
    "prompt = f\"\"\"\n",
    "将以下文本翻译成西班牙语中的正式和非正式形式：\n",
    "'Would you like to order a pillow?'\n",
    "\"\"\"\n",
    "response = get_completion(prompt)\n",
    "print(response)"
   ]
  },
  {
   "attachments": {},
   "cell_type": "markdown",
   "metadata": {},
   "source": [
    "## 通用翻译器\n",
    "想象一下，您是大型跨国电子商务公司的IT负责人。用户使用他们的母语给您发送IT问题。您的员工来自世界各地，只会讲他们的母语。您需要一个通用翻译器！"
   ]
  },
  {
   "cell_type": "code",
   "execution_count": 2,
   "metadata": {},
   "outputs": [],
   "source": [
    "user_messages = [\n",
    "\"La performance du système est plus lente que d'habitude.\", # System performance is slower than normal\n",
    "\"Mi monitor tiene píxeles que no se iluminan.\", # My monitor has pixels that are not lighting\n",
    "\"Il mio mouse non funziona\", # My mouse is not working\n",
    "\"Mój klawisz Ctrl jest zepsuty\", # My keyboard has a broken control key\n",
    "\"我的屏幕在闪烁\" # My screen is flashing\n",
    "]"
   ]
  },
  {
   "cell_type": "code",
   "execution_count": 5,
   "metadata": {},
   "outputs": [
    {
     "name": "stdout",
     "output_type": "stream",
     "text": [
      "原始信息 (这是法语。): La performance du système est plus lente que d'habitude.\n",
      "英语：The system performance is slower than usual.\n",
      "韩语：시스템 성능이 평소보다 느립니다. \n",
      "\n",
      "原始信息 (这是西班牙语。): Mi monitor tiene píxeles que no se iluminan.\n",
      "英语翻译：My monitor has pixels that don't light up.\n",
      "韩语翻译：내 모니터에는 불이 켜지지 않는 픽셀이 있습니다. \n",
      "\n",
      "原始信息 (这是意大利语。): Il mio mouse non funziona\n",
      "英语翻译：My mouse is not working.\n",
      "韩语翻译：내 마우스가 작동하지 않습니다. \n",
      "\n",
      "原始信息 (这是波兰语。): Mój klawisz Ctrl jest zepsuty\n",
      "英语：My Ctrl key is broken\n",
      "韩语：내 Ctrl 키가 고장 났어요 \n",
      "\n",
      "原始信息 (这是中文。): 我的屏幕在闪烁\n",
      "英语：My screen is flickering.\n",
      "韩语：내 화면이 깜빡입니다. \n",
      "\n"
     ]
    }
   ],
   "source": [
    "for issue in user_messages:\n",
    "    prompt = f\"告诉我这是哪种语言：{issue}\"\n",
    "    lang = get_completion(prompt)\n",
    "    print(f\"原始信息 ({lang}): {issue}\")\n",
    "    \n",
    "    time.sleep(19)\n",
    "    \n",
    "    prompt = f\"\"\"\n",
    "    将以下文本翻译成英语和韩语：{issue}\n",
    "    \"\"\"\n",
    "    response = get_completion(prompt)\n",
    "    print(response, \"\\n\")\n",
    "    time.sleep(19)"
   ]
  },
  {
   "attachments": {},
   "cell_type": "markdown",
   "metadata": {},
   "source": []
  },
  {
   "attachments": {},
   "cell_type": "markdown",
   "metadata": {},
   "source": [
    "## 语气转换\n",
    "根据目标受众，写作风格可以有所不同。ChatGPT可以产生不同的语气。"
   ]
  },
  {
   "cell_type": "code",
   "execution_count": 11,
   "metadata": {},
   "outputs": [
    {
     "name": "stdout",
     "output_type": "stream",
     "text": [
      "尊敬的先生/女士，我是乔，希望您能查看这个落地灯的规格。\n"
     ]
    }
   ],
   "source": [
    "prompt = f\"\"\"\n",
    "将以下文本从俚语翻译为正式信函：\n",
    "'Dude, This is Joe, check out this spec on this standing lamp.'\n",
    "\"\"\"\n",
    "response = get_completion(prompt)\n",
    "print(response)"
   ]
  },
  {
   "attachments": {},
   "cell_type": "markdown",
   "metadata": {},
   "source": [
    "## 格式转换\n",
    "ChatGPT可以在不同格式之间进行翻译。提示应描述输入和输出格式。"
   ]
  },
  {
   "cell_type": "code",
   "execution_count": 23,
   "metadata": {},
   "outputs": [
    {
     "name": "stdout",
     "output_type": "stream",
     "text": [
      "<table>\n",
      "  <caption>Restaurant Employees</caption>\n",
      "  <thead>\n",
      "    <tr>\n",
      "      <th>Name</th>\n",
      "      <th>Email</th>\n",
      "    </tr>\n",
      "  </thead>\n",
      "  <tbody>\n",
      "    <tr>\n",
      "      <td>Shyam</td>\n",
      "      <td>shyamjaiswal@gmail.com</td>\n",
      "    </tr>\n",
      "    <tr>\n",
      "      <td>Bob</td>\n",
      "      <td>bob32@gmail.com</td>\n",
      "    </tr>\n",
      "    <tr>\n",
      "      <td>Jai</td>\n",
      "      <td>jai87@gmail.com</td>\n",
      "    </tr>\n",
      "  </tbody>\n",
      "</table>\n"
     ]
    }
   ],
   "source": [
    "data_json = { \"resturant employees\" :[\n",
    "    {\"name\":\"Shyam\", \"email\":\"shyamjaiswal@gmail.com\"},\n",
    "    {\"name\":\"Bob\", \"email\":\"bob32@gmail.com\"},\n",
    "    {\"name\":\"Jai\", \"email\":\"jai87@gmail.com\"}\n",
    "]}\n",
    "\n",
    "prompt = f\"\"\"\n",
    "Translate the following python dictionary from JSON to an HTML \\\n",
    "table with column headers and title: {data_json}\n",
    "\"\"\"\n",
    "response = get_completion(prompt)\n",
    "print(response)"
   ]
  },
  {
   "cell_type": "code",
   "execution_count": 24,
   "metadata": {},
   "outputs": [
    {
     "data": {
      "text/html": [
       "<table>\n",
       "  <caption>Restaurant Employees</caption>\n",
       "  <thead>\n",
       "    <tr>\n",
       "      <th>Name</th>\n",
       "      <th>Email</th>\n",
       "    </tr>\n",
       "  </thead>\n",
       "  <tbody>\n",
       "    <tr>\n",
       "      <td>Shyam</td>\n",
       "      <td>shyamjaiswal@gmail.com</td>\n",
       "    </tr>\n",
       "    <tr>\n",
       "      <td>Bob</td>\n",
       "      <td>bob32@gmail.com</td>\n",
       "    </tr>\n",
       "    <tr>\n",
       "      <td>Jai</td>\n",
       "      <td>jai87@gmail.com</td>\n",
       "    </tr>\n",
       "  </tbody>\n",
       "</table>"
      ],
      "text/plain": [
       "<IPython.core.display.HTML object>"
      ]
     },
     "metadata": {},
     "output_type": "display_data"
    }
   ],
   "source": [
    "from IPython.display import display, Markdown, Latex, HTML, JSON\n",
    "display(HTML(response))"
   ]
  },
  {
   "attachments": {},
   "cell_type": "markdown",
   "metadata": {},
   "source": [
    "## 拼写/语法检查\n",
    "以下是常见语法和拼写问题及LLM的响应示例。\n",
    "\n",
    "为了向LLM表示您希望它校对您的文本，您可以指示模型“校对”或“校对并更正”。"
   ]
  },
  {
   "cell_type": "code",
   "execution_count": 6,
   "metadata": {},
   "outputs": [
    {
     "name": "stdout",
     "output_type": "stream",
     "text": [
      "The girl with the black and white puppies has a ball.\n",
      "未发现任何错误。\n",
      "It's going to be a long day. Does the car need its oil changed? \n",
      "\n",
      "重写： \n",
      "今天将是漫长的一天。汽车需要更换机油吗？\n",
      "There goes my freedom. They're going to bring their suitcases. \n",
      "\n",
      "重写：My freedom is gone as they are taking their suitcases.\n",
      "You're going to need your notebook. (You are going to need your notebook.)\n",
      "That medicine affects my ability to sleep. Have you heard of the butterfly effect? \n",
      "\n",
      "重写： \n",
      "The medicine is affecting my ability to sleep. Have you ever heard of the butterfly effect?\n",
      "未发现任何错误。\n"
     ]
    }
   ],
   "source": [
    "text = [\n",
    "\"The girl with the black and white puppies have a ball.\", # The girl has a ball.\n",
    "\"Yolanda has her notebook.\", # ok\n",
    "\"Its going to be a long day. Does the car need it’s oil changed?\", # 同音异义词\n",
    "\"Their goes my freedom. There going to bring they’re suitcases.\", # 同音异义词\n",
    "\"Your going to need you’re notebook.\", # 同音异义词\n",
    "\"That medicine effects my ability to sleep. Have you heard of the butterfly affect?\", # 同音异义词\n",
    "\"This phrase is to cherck chatGPT for speling abilitty\" # 拼写\n",
    "]\n",
    "for t in text:\n",
    "    prompt = f\"\"\"校对和纠正以下文本并重写已更正版本。如果您没有发现任何错误，仅说“未发现任何错误”。在文本周围不要使用任何标点符号：\n",
    "    {t}\"\"\"\n",
    "    response = get_completion(prompt)\n",
    "    print(response)\n",
    "    time.sleep(20)"
   ]
  },
  {
   "cell_type": "code",
   "execution_count": 30,
   "metadata": {},
   "outputs": [
    {
     "name": "stdout",
     "output_type": "stream",
     "text": [
      "我为女儿的生日买了这个熊猫玩具，因为她总是从我的房间拿走我的。是的，成年人也会喜欢熊猫。她把它带到身边，它超级柔软和可爱。其中一个耳朵比另一个低一点，但我认为这不是设计上的不对称。但是，考虑到我所支付的金额，它有点小。我认为可能有其他更大的选项，价格相同。它比预期早了一天，所以在送给女儿之前，我可以自己先玩一下。\n"
     ]
    }
   ],
   "source": [
    "text = f\"\"\"\n",
    "我为女儿的生日买了这个，因为她总是从我的房间拿走我的。\n",
    "是的，成年人也喜欢熊猫。她把它带到她身边，它超柔软和可爱。 \n",
    "其中一个耳朵比另一个低一点，我认为这不是设计成不对称的。\n",
    "但对于我所支付的金额而言，它有点小。 我认为可能有其他更大的选项，\n",
    "价格相同。 它比预期早了一天，所以在把它送给女儿之前，我可以自己玩一下。\n",
    "\"\"\"\n",
    "prompt = f\"校对并更正这篇评论：{text}\"\n",
    "response = get_completion(prompt)\n",
    "print(response)"
   ]
  },
  {
   "cell_type": "code",
   "execution_count": 34,
   "metadata": {},
   "outputs": [
    {
     "name": "stdout",
     "output_type": "stream",
     "text": [
      "I bought this for my daughter's birthday because she always takes mine from my room. Yes, even adults like pandas. She keeps it by her side and it's super soft and cute. One ear is slightly lower than the other, but I don't think it was designed to be asymmetrical. However, for the amount I paid, it's a bit small. I think there may be other larger options for the same price. It arrived a day earlier than expected, so I got to play with it myself before giving it to my daughter.\n"
     ]
    }
   ],
   "source": [
    "text_en = f\"\"\"\n",
    "Got this for my daughter for her birthday cuz she keeps taking \\\n",
    "mine from my room.  Yes, adults also like pandas too.  She takes \\\n",
    "it everywhere with her, and it's super soft and cute.  One of the \\\n",
    "ears is a bit lower than the other, and I don't think that was \\\n",
    "designed to be asymmetrical. It's a bit small for what I paid for it \\\n",
    "though. I think there might be other options that are bigger for \\\n",
    "the same price.  It arrived a day earlier than expected, so I got \\\n",
    "to play with it myself before I gave it to my daughter.\n",
    "\"\"\"\n",
    "prompt_en = f\"proofread and correct this review: ```{text_en}```\"\n",
    "response_en = get_completion(prompt_en)\n",
    "print(response_en)"
   ]
  },
  {
   "cell_type": "code",
   "execution_count": 35,
   "metadata": {},
   "outputs": [
    {
     "data": {
      "text/markdown": [
       "<span style=\"color:red;font-weight:700;text-decoration:line-through;\">Got </span><span style=\"color:red;font-weight:700;\">I bought </span>this for my <span style=\"color:red;font-weight:700;text-decoration:line-through;\">daughter for her </span><span style=\"color:red;font-weight:700;\">daughter's </span>birthday <span style=\"color:red;font-weight:700;text-decoration:line-through;\">cuz </span><span style=\"color:red;font-weight:700;\">because </span>she <span style=\"color:red;font-weight:700;text-decoration:line-through;\">keeps taking </span><span style=\"color:red;font-weight:700;\">always takes </span>mine from my <span style=\"color:red;font-weight:700;text-decoration:line-through;\">room.  </span><span style=\"color:red;font-weight:700;\">room. </span>Yes, <span style=\"color:red;font-weight:700;\">even </span>adults <span style=\"color:red;font-weight:700;text-decoration:line-through;\">also </span>like <span style=\"color:red;font-weight:700;text-decoration:line-through;\">pandas too.  </span><span style=\"color:red;font-weight:700;\">pandas. </span>She <span style=\"color:red;font-weight:700;text-decoration:line-through;\">takes </span><span style=\"color:red;font-weight:700;\">keeps </span>it <span style=\"color:red;font-weight:700;text-decoration:line-through;\">everywhere with her, </span><span style=\"color:red;font-weight:700;\">by her side </span>and it's super soft and <span style=\"color:red;font-weight:700;text-decoration:line-through;\">cute.  </span><span style=\"color:red;font-weight:700;\">cute. </span>One <span style=\"color:red;font-weight:700;text-decoration:line-through;\">of the ears </span><span style=\"color:red;font-weight:700;\">ear </span>is <span style=\"color:red;font-weight:700;text-decoration:line-through;\">a bit </span><span style=\"color:red;font-weight:700;\">slightly </span>lower than the other, <span style=\"color:red;font-weight:700;text-decoration:line-through;\">and </span><span style=\"color:red;font-weight:700;\">but </span>I don't think <span style=\"color:red;font-weight:700;text-decoration:line-through;\">that </span><span style=\"color:red;font-weight:700;\">it </span>was designed to be asymmetrical. <span style=\"color:red;font-weight:700;text-decoration:line-through;\">It's </span><span style=\"color:red;font-weight:700;\">However, for the amount I paid, it's </span>a bit <span style=\"color:red;font-weight:700;text-decoration:line-through;\">small for what I paid for it though. </span><span style=\"color:red;font-weight:700;\">small. </span>I think there <span style=\"color:red;font-weight:700;text-decoration:line-through;\">might </span><span style=\"color:red;font-weight:700;\">may </span>be other <span style=\"color:red;font-weight:700;\">larger </span>options <span style=\"color:red;font-weight:700;text-decoration:line-through;\">that are bigger </span>for the same <span style=\"color:red;font-weight:700;text-decoration:line-through;\">price.  </span><span style=\"color:red;font-weight:700;\">price. </span>It arrived a day earlier than expected, so I got to play with it myself before <span style=\"color:red;font-weight:700;text-decoration:line-through;\">I gave </span><span style=\"color:red;font-weight:700;\">giving </span>it to my <span style=\"color:red;font-weight:700;text-decoration:line-through;\">daughter.\n",
       "</span><span style=\"color:red;font-weight:700;\">daughter.</span>"
      ],
      "text/plain": [
       "<IPython.core.display.Markdown object>"
      ]
     },
     "metadata": {},
     "output_type": "display_data"
    }
   ],
   "source": [
    "from redlines import Redlines\n",
    "\n",
    "diff = Redlines(text_en, response_en)\n",
    "display(Markdown(diff.output_markdown))"
   ]
  },
  {
   "cell_type": "code",
   "execution_count": 40,
   "metadata": {},
   "outputs": [
    {
     "data": {
      "text/markdown": [
       "我为女儿的生日购买了这个熊猫玩具，因为她总是从我的房间拿走我的。即使是成年人也会被它的可爱和柔软所吸引。它的设计非常可爱，虽然其中一个耳朵比另一个低一点，但这并不影响它的魅力。然而，对于我所支付的金额而言，它有点小。我认为可能有其他更大的选项，价格相同。不过，它比预期早了一天，这让我有时间在送给女儿之前先玩一下。如果你正在寻找一个可爱的熊猫玩具作为礼物，这个是一个不错的选择。"
      ],
      "text/plain": [
       "<IPython.core.display.Markdown object>"
      ]
     },
     "metadata": {},
     "output_type": "display_data"
    }
   ],
   "source": [
    "prompt = f\"\"\"\n",
    "校对并纠正此评论。使它更具吸引力。\n",
    "确保它遵循APA样式指南，并针对高级读者。以Markdown格式输出。\n",
    "文本：{text}\n",
    "\"\"\"\n",
    "response = get_completion(prompt)\n",
    "display(Markdown(response))"
   ]
  },
  {
   "cell_type": "code",
   "execution_count": 37,
   "metadata": {},
   "outputs": [
    {
     "data": {
      "text/markdown": [
       "I purchased this for my daughter's birthday because she always takes mine from my room. Yes, even adults love pandas. She cuddles with it and it is super soft and adorable. One ear is slightly lower than the other, but I don't think it was designed to be asymmetrical. However, for the amount I paid, it is a bit small. I think there may be other larger options available for the same price. It arrived a day earlier than expected, so I got to play with it myself before giving it to my daughter. Overall, it is a cute and cuddly gift, but consider the size before purchasing. \n",
       "\n",
       "As an advanced reader, it is important to note that this review follows APA style guide. The author provides a clear and concise summary of their experience with the product, highlighting both positive and negative aspects. The use of personal anecdotes adds a relatable touch to the review. However, the author could improve the review by providing more specific details about the product, such as its material or dimensions. Additionally, the author could include comparisons to similar products on the market to further emphasize the value of their purchase."
      ],
      "text/plain": [
       "<IPython.core.display.Markdown object>"
      ]
     },
     "metadata": {},
     "output_type": "display_data"
    }
   ],
   "source": [
    "prompt_en = f\"\"\"\n",
    "proofread and correct this review. Make it more compelling. \n",
    "Ensure it follows APA style guide and targets an advanced reader. \n",
    "Output in markdown format.\n",
    "Text: ```{text}```\n",
    "\"\"\"\n",
    "response_en = get_completion(prompt_en)\n",
    "display(Markdown(response_en))"
   ]
  },
  {
   "attachments": {},
   "cell_type": "markdown",
   "metadata": {},
   "source": [
    "公众号“开放人工智能”，后台回复“会说话的椰子”获取提示工程体验卡。"
   ]
  }
 ],
 "metadata": {
  "kernelspec": {
   "display_name": "Python 3 (ipykernel)",
   "language": "python",
   "name": "python3"
  },
  "language_info": {
   "codemirror_mode": {
    "name": "ipython",
    "version": 3
   },
   "file_extension": ".py",
   "mimetype": "text/x-python",
   "name": "python",
   "nbconvert_exporter": "python",
   "pygments_lexer": "ipython3",
   "version": "3.10.6"
  }
 },
 "nbformat": 4,
 "nbformat_minor": 2
}
