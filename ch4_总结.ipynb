{
 "cells": [
  {
   "attachments": {},
   "cell_type": "markdown",
   "metadata": {},
   "source": [
    "# ChatGPT提示工程第4课：总结\n",
    "\n",
    "本课将重点教授如何针对特定主题进行文本总结/摘要。\n",
    "\n",
    "## 设置\n",
    "加载API key和相关Python库，依赖库见requirements.txt。"
   ]
  },
  {
   "cell_type": "code",
   "execution_count": 1,
   "metadata": {},
   "outputs": [],
   "source": [
    "import openai\n",
    "import os\n",
    "import time\n",
    "\n",
    "from dotenv import load_dotenv, find_dotenv\n",
    "_ = load_dotenv(find_dotenv())\n",
    "# 在项目根目录的.env文件中填写你的OpenAI API Key\n",
    "# 可以在kudaohang.com上获取测试用的key\n",
    "openai.api_key  = os.getenv('OPENAI_API_KEY')\n",
    "\n",
    "\n",
    "def get_completion(prompt, model=\"gpt-3.5-turbo\"):\n",
    "    messages = [{\"role\": \"user\", \"content\": prompt}]\n",
    "    response = openai.ChatCompletion.create(\n",
    "        model=model,\n",
    "        messages=messages,\n",
    "        temperature=0, # this is the degree of randomness of the model's output\n",
    "    )\n",
    "    return response.choices[0].message[\"content\"]"
   ]
  },
  {
   "cell_type": "code",
   "execution_count": 2,
   "metadata": {},
   "outputs": [],
   "source": [
    "prod_review = \"\"\"\n",
    "我为女儿的生日买了这个熊猫毛绒玩具，\n",
    "她很喜欢，到处都带着它。它很柔软，\n",
    "非常可爱，还有一张友好的面孔。\n",
    "不过相对我花的钱来说，它有点小。\n",
    "我认为可能有其他相同价格但更大的选项。\n",
    "它提前了一天到达，所以我在\n",
    "把它交给女儿之前自己玩了一会儿。\n",
    "\"\"\""
   ]
  },
  {
   "attachments": {},
   "cell_type": "markdown",
   "metadata": {},
   "source": [
    "## 总结时带上词语/句子/字符数限制"
   ]
  },
  {
   "cell_type": "code",
   "execution_count": 3,
   "metadata": {},
   "outputs": [
    {
     "name": "stdout",
     "output_type": "stream",
     "text": [
      "柔软可爱的熊猫毛绒玩具，女儿很喜欢，但有点小。提前到达，快乐购物体验。\n"
     ]
    }
   ],
   "source": [
    "prompt = f\"\"\"\n",
    "您的任务是从电子商务网站上生成一个产品评论的简短摘要。\n",
    "\n",
    "请在三个反引号分界符中总结以下评论，字数不超过30个词。\n",
    "\n",
    "评论: ```{prod_review}```\n",
    "\"\"\"\n",
    "\n",
    "response = get_completion(prompt)\n",
    "print(response)"
   ]
  },
  {
   "attachments": {},
   "cell_type": "markdown",
   "metadata": {},
   "source": [
    "## 总结时聚焦在产品的发货和交付方面"
   ]
  },
  {
   "cell_type": "code",
   "execution_count": null,
   "metadata": {},
   "outputs": [],
   "source": [
    "提示 = f\"\"\"\n",
    "您的任务是从电子商务网站的产品评论中生成一个简短的摘要，以便向物流部门提供反馈。\n",
    "\n",
    "请在下面评论的分隔符之间（三个反引号）中总结评论，最多30个单词，并专注于提到产品的发货和交付方面。\n",
    "\n",
    "评论：```{prod_review}```\n",
    "\"\"\"\n",
    "\n",
    "response = get_completion(提示)\n",
    "print(response)"
   ]
  },
  {
   "attachments": {},
   "cell_type": "markdown",
   "metadata": {},
   "source": [
    "## 总结时聚焦在产品的价值上"
   ]
  },
  {
   "cell_type": "code",
   "execution_count": null,
   "metadata": {},
   "outputs": [],
   "source": [
    "提示 = f\"\"\"\n",
    "您的任务是从电子商务网站的产品评论中生成一个简短的摘要，以便向负责确定产品价格的定价部门提供反馈。\n",
    "\n",
    "请总结下面的评论，使用三个反引号作为定界符，不超过30个单词，并专注于与价格和感知价值相关的任何方面。\n",
    "\n",
    "评论: ```{prod_review}```\n",
    "\"\"\"\n",
    "\n",
    "response = get_completion(提示)\n",
    "print(response)"
   ]
  },
  {
   "attachments": {},
   "cell_type": "markdown",
   "metadata": {},
   "source": [
    "## 尝试使用“提取”而不是“总结”。"
   ]
  },
  {
   "cell_type": "code",
   "execution_count": null,
   "metadata": {},
   "outputs": [],
   "source": [
    "提示 =f\"\"\"\n",
    "您的任务是从电子商务网站的产品评论中提取相关信息，以便向发货部门提供反馈。\n",
    "\n",
    "从下面由三重引号分隔的评论中提取与运输和交付相关的信息。限制为30个词。\n",
    "\n",
    "评论:```{prod_review}```\n",
    "\"\"\"\n",
    "\n",
    "回应 = get_completion(提示)\n",
    "print(回应)"
   ]
  },
  {
   "attachments": {},
   "cell_type": "markdown",
   "metadata": {},
   "source": [
    "## 总结多个产品评论"
   ]
  },
  {
   "cell_type": "code",
   "execution_count": 5,
   "metadata": {},
   "outputs": [
    {
     "name": "stdout",
     "output_type": "stream",
     "text": [
      "0 可爱柔软的熊猫玩具，但有点小。``` \n",
      "\n",
      "1 \"漂亮灯，带储物空间，快递快，好客服\" \n",
      "\n",
      "2 电动牙刷续航强，但刷头太小，需要改进。价格合理，让牙齿感觉干净。 \n",
      "\n",
      "3 11月促销价格欺诈，质量下降，客服无效，需温柔使用。 \n",
      "\n"
     ]
    }
   ],
   "source": [
    "review_1 = prod_review\n",
    "\n",
    "# 关于落地灯的评论\n",
    "review_2 = \"\"\"\n",
    "需要一盏适合卧室的漂亮灯，这款灯额外带有储物空间且价格不太高。\n",
    "快递很快，两天就到了。在运输过程中，灯的拉绳断了，\n",
    "公司很乐意寄了一根新的过来。几天之内也收到了。\n",
    "安装起来很简单。然后发现少了一个零件，我联系了他们的客服，\n",
    "他们很快就给我寄来了缺失的部件！对我来说，这是一家非常关心客户和产品的好公司。\n",
    "\"\"\"\n",
    "\n",
    "# 关于电动牙刷的评论\n",
    "review_3 = \"\"\"\n",
    "我的牙科卫生师推荐我用电动牙刷，所以我买了这款。\n",
    "目前为止，电池续航似乎相当令人印象深刻。最初充电后，\n",
    "并在第一个星期内插着充电器以保持电池状态，我拔掉充电器，\n",
    "过去3周每天刷两次牙，都是用同一次充电。但是牙刷头太小了。\n",
    "我见过的婴儿牙刷比这个还大。我希望头部更大，有不同长度的刷毛，\n",
    "可以更好地进入牙缝，因为这个不行。总的来说，如果你能以50美元\n",
    "左右的价格买到这款牙刷，那是不错的交易。制造商的替换刷头相当昂贵，\n",
    "但你可以买到价格更合理的通用刷头。这款牙刷让我觉得每天都像\n",
    "去过牙医似的。我的牙齿感觉闪闪发光干净！\n",
    "\"\"\"\n",
    "\n",
    "# 关于搅拌机的评论\n",
    "review_4 = \"\"\"\n",
    "那么，他们在11月还在季节性促销，17件套的价格大约是49美元，\n",
    "折扣大约是一半，但不知何故（价格欺诈），在12月的第二周，\n",
    "同样的系统价格都涨到了70-89美元之间。而11件套系统的价格也\n",
    "从之前的促销价格29美元上涨了大约10美元。外观看起来还可以，\n",
    "但如果你看底座，刀片锁定到位的部分看起来并不如几年前的版本\n",
    "那么好，但我打算对它非常温柔（例如，我先在搅拌机里压碎\n",
    "非常硬的东西，如豆子、冰、大米等，然后在搅拌机里将它们研磨到\n",
    "我需要的份量，然后换上搅拌刀片，制作更细腻的面粉，制作果汁时，\n",
    "先用十字切割刀片，如果需要更细腻/更少的果肉，再用平面刀片）。\n",
    "制作果汁的特别提示：将水果和蔬菜切成细丝并冷冻（如果使用菠菜，\n",
    "先稍微炖软菠菜，然后冻起来，准备使用；如果制作果冻，使用中小型\n",
    "食品加工机），这样你就可以避免在制作果汁时添加过多的冰。大约一\n",
    "年后，电机开始发出奇怪的噪音。我打电话给客服，但保修期已经过了，\n",
    "所以我不得不又买了一个。请注意：这类产品的整体质量已经下降，\n",
    "所以他们有点依赖品牌认知度和消费者忠诚度来维持销量。大约两天就收到了。\n",
    "\"\"\"\n",
    "\n",
    "reviews = [review_1, review_2, review_3, review_4]\n",
    "\n",
    "for i in range(len(reviews)):\n",
    "    prompt = f\"\"\"\n",
    "    您的任务是从电子商务网站的产品评论中生成一篇简短的摘要。\n",
    "\n",
    "    请在以下限定条件内摘要评论，摘要内容应不超过20个单词，使用三个反引号分隔。\n",
    "    \n",
    "    评论内容如下：: ```{reviews[i]}```\n",
    "    \"\"\"\n",
    "\n",
    "    response = get_completion(prompt)\n",
    "    print(i, response, \"\\n\")\n",
    "    time.sleep(20)"
   ]
  },
  {
   "attachments": {},
   "cell_type": "markdown",
   "metadata": {},
   "source": [
    "公众号“开放人工智能”，后台回复“会说话的椰子”获取提示工程体验卡。"
   ]
  }
 ],
 "metadata": {
  "kernelspec": {
   "display_name": "Python 3 (ipykernel)",
   "language": "python",
   "name": "python3"
  },
  "language_info": {
   "codemirror_mode": {
    "name": "ipython",
    "version": 3
   },
   "file_extension": ".py",
   "mimetype": "text/x-python",
   "name": "python",
   "nbconvert_exporter": "python",
   "pygments_lexer": "ipython3",
   "version": "3.10.6"
  }
 },
 "nbformat": 4,
 "nbformat_minor": 2
}
